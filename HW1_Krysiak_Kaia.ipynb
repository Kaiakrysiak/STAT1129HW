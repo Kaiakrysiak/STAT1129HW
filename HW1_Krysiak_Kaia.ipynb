{
 "cells": [
  {
   "cell_type": "code",
   "execution_count": 1,
   "id": "9681f4a4",
   "metadata": {},
   "outputs": [
    {
     "name": "stdout",
     "output_type": "stream",
     "text": [
      "[30, 35, 40, 45, 50, 55]\n"
     ]
    }
   ],
   "source": [
    "###### Question 1  ######\n",
    "nums = list(range(30, 60, 5))\n",
    "print(nums)"
   ]
  },
  {
   "cell_type": "code",
   "execution_count": 2,
   "id": "529f5561",
   "metadata": {},
   "outputs": [
    {
     "name": "stdout",
     "output_type": "stream",
     "text": [
      "[55, 50, 45, 40, 35, 30]\n"
     ]
    }
   ],
   "source": [
    "print(nums[::-1])"
   ]
  },
  {
   "cell_type": "code",
   "execution_count": 3,
   "id": "8879c2b5",
   "metadata": {},
   "outputs": [
    {
     "name": "stdout",
     "output_type": "stream",
     "text": [
      "[30, 35, 40, 45, 50, 55, 60, 65]\n",
      "[65, 60, 55, 50, 45, 40, 35, 30]\n"
     ]
    }
   ],
   "source": [
    "nums = list(range(30, 70, 5))\n",
    "print(nums)\n",
    "print(nums[::-1])"
   ]
  },
  {
   "cell_type": "code",
   "execution_count": 13,
   "id": "5463c748",
   "metadata": {},
   "outputs": [],
   "source": [
    "####### Question 2 #########\n",
    "nums = []"
   ]
  },
  {
   "cell_type": "markdown",
   "id": "162bd1bc",
   "metadata": {},
   "source": [
    "nums.insert(0, 20)"
   ]
  },
  {
   "cell_type": "code",
   "execution_count": 15,
   "id": "265d45ae",
   "metadata": {},
   "outputs": [],
   "source": [
    "nums = [0, 1, 2, 3, 4, 5, 6, 7, 8, 9, 10, 11, 12, 13, 14, 15, 16, 17, 18, 19, 20]"
   ]
  },
  {
   "cell_type": "code",
   "execution_count": 16,
   "id": "98854208",
   "metadata": {},
   "outputs": [],
   "source": [
    "nums = list(range(0,20))"
   ]
  },
  {
   "cell_type": "code",
   "execution_count": 17,
   "id": "fe95ed98",
   "metadata": {},
   "outputs": [
    {
     "data": {
      "text/plain": [
       "[0, 1, 2, 3, 4, 5, 6, 7, 8, 9, 10, 11, 12, 13, 14, 15, 16, 17, 18, 19]"
      ]
     },
     "execution_count": 17,
     "metadata": {},
     "output_type": "execute_result"
    }
   ],
   "source": [
    "nums"
   ]
  },
  {
   "cell_type": "code",
   "execution_count": 18,
   "id": "a7ee342d",
   "metadata": {},
   "outputs": [],
   "source": [
    "del nums[-1]"
   ]
  },
  {
   "cell_type": "code",
   "execution_count": 19,
   "id": "8355d22d",
   "metadata": {},
   "outputs": [
    {
     "data": {
      "text/plain": [
       "[0, 1, 2, 3, 4, 5, 6, 7, 8, 9, 10, 11, 12, 13, 14, 15, 16, 17, 18]"
      ]
     },
     "execution_count": 19,
     "metadata": {},
     "output_type": "execute_result"
    }
   ],
   "source": [
    "nums"
   ]
  },
  {
   "cell_type": "code",
   "execution_count": 20,
   "id": "cf98753f",
   "metadata": {},
   "outputs": [
    {
     "data": {
      "text/plain": [
       "171"
      ]
     },
     "execution_count": 20,
     "metadata": {},
     "output_type": "execute_result"
    }
   ],
   "source": [
    "sum(nums)"
   ]
  },
  {
   "cell_type": "code",
   "execution_count": 21,
   "id": "9a0c6e4b",
   "metadata": {},
   "outputs": [
    {
     "name": "stdout",
     "output_type": "stream",
     "text": [
      "<class 'dict'>\n",
      "{'Sunny': 'play', 'Rainy': 'watch TV', 'Cloudy': 'walk'}\n"
     ]
    }
   ],
   "source": [
    "###### Question 3 ##########\n",
    "days = {\"Sunny\": \"play\", \"Rainy\": \"watch TV\", \"Cloudy\": \"walk\"}\n",
    "print(type(days))\n",
    "print(days)"
   ]
  },
  {
   "cell_type": "code",
   "execution_count": 22,
   "id": "c711d886",
   "metadata": {},
   "outputs": [
    {
     "data": {
      "text/plain": [
       "'play'"
      ]
     },
     "execution_count": 22,
     "metadata": {},
     "output_type": "execute_result"
    }
   ],
   "source": [
    "days[\"Sunny\"]"
   ]
  },
  {
   "cell_type": "code",
   "execution_count": 23,
   "id": "59bbedd5",
   "metadata": {},
   "outputs": [
    {
     "data": {
      "text/plain": [
       "'watch TV'"
      ]
     },
     "execution_count": 23,
     "metadata": {},
     "output_type": "execute_result"
    }
   ],
   "source": [
    "days[\"Rainy\"]"
   ]
  },
  {
   "cell_type": "code",
   "execution_count": 24,
   "id": "8492ac0a",
   "metadata": {},
   "outputs": [
    {
     "data": {
      "text/plain": [
       "'walk'"
      ]
     },
     "execution_count": 24,
     "metadata": {},
     "output_type": "execute_result"
    }
   ],
   "source": [
    "days[\"Cloudy\"]"
   ]
  },
  {
   "cell_type": "code",
   "execution_count": 25,
   "id": "6a6a8ede",
   "metadata": {},
   "outputs": [
    {
     "name": "stdout",
     "output_type": "stream",
     "text": [
      "{'Sunny': 'play', 'Rainy': 'watch TV', 'Cloudy': 'walk', 'Snowy': 'ski'}\n"
     ]
    }
   ],
   "source": [
    "days.update({\"Snowy\": \"ski\"})\n",
    "print(days)"
   ]
  },
  {
   "cell_type": "code",
   "execution_count": null,
   "id": "b0fcc9ff",
   "metadata": {},
   "outputs": [],
   "source": []
  }
 ],
 "metadata": {
  "kernelspec": {
   "display_name": "Python 3 (ipykernel)",
   "language": "python",
   "name": "python3"
  },
  "language_info": {
   "codemirror_mode": {
    "name": "ipython",
    "version": 3
   },
   "file_extension": ".py",
   "mimetype": "text/x-python",
   "name": "python",
   "nbconvert_exporter": "python",
   "pygments_lexer": "ipython3",
   "version": "3.9.13"
  }
 },
 "nbformat": 4,
 "nbformat_minor": 5
}
