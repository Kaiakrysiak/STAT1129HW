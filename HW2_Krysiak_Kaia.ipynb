{
 "cells": [
  {
   "cell_type": "code",
   "execution_count": 1,
   "id": "4b13853a",
   "metadata": {},
   "outputs": [
    {
     "name": "stdout",
     "output_type": "stream",
     "text": [
      "0\n",
      "1\n",
      "2\n",
      "3\n",
      "4\n"
     ]
    }
   ],
   "source": [
    "### Question 1 ###\n",
    "n = 0\n",
    "while n < 5:\n",
    "    print (n)\n",
    "    n = n + 1"
   ]
  },
  {
   "cell_type": "code",
   "execution_count": 2,
   "id": "2d0b821e",
   "metadata": {},
   "outputs": [
    {
     "name": "stdout",
     "output_type": "stream",
     "text": [
      "0\n",
      "1\n",
      "2\n",
      "3\n",
      "4\n",
      "5  is not less than 5\n"
     ]
    }
   ],
   "source": [
    "### Question 2 ###\n",
    "n = 0\n",
    "while n < 5:\n",
    "    print (n)\n",
    "    n = n + 1\n",
    "else:\n",
    "    print(n, \" is not less than 5\")"
   ]
  },
  {
   "cell_type": "code",
   "execution_count": 4,
   "id": "f83742f8",
   "metadata": {},
   "outputs": [
    {
     "name": "stdout",
     "output_type": "stream",
     "text": [
      "['banana', 'orange', 'apple', 'cherry']\n"
     ]
    }
   ],
   "source": [
    "### Question 3 ###\n",
    "fruitlist = [\"banana\", \"orange\", \"apple\", \"cherry\"]\n",
    "print(fruitlist)"
   ]
  },
  {
   "cell_type": "code",
   "execution_count": 6,
   "id": "158fcb94",
   "metadata": {},
   "outputs": [
    {
     "name": "stdout",
     "output_type": "stream",
     "text": [
      "I like banana\n",
      "I like orange\n",
      "apple is really a fruit?\n"
     ]
    }
   ],
   "source": [
    "print(\"I like\", fruitlist[0])\n",
    "print(\"I like\", fruitlist[1])\n",
    "print(fruitlist[2], \"is really a fruit?\")"
   ]
  },
  {
   "cell_type": "code",
   "execution_count": 7,
   "id": "30fd48cf",
   "metadata": {},
   "outputs": [
    {
     "name": "stdout",
     "output_type": "stream",
     "text": [
      "the sum is 465\n"
     ]
    }
   ],
   "source": [
    "### Question 4 ###\n",
    "n = 30 \n",
    "sum = 0 \n",
    "i = 1\n",
    "\n",
    "while i <= n:\n",
    "    sum = sum + i \n",
    "    i = i+1 \n",
    "\n",
    "print(\"the sum is\", sum)"
   ]
  },
  {
   "cell_type": "code",
   "execution_count": 8,
   "id": "e414c693",
   "metadata": {},
   "outputs": [],
   "source": [
    "### Question 5 ###\n",
    "grade = 65"
   ]
  },
  {
   "cell_type": "code",
   "execution_count": 9,
   "id": "4df7ed9e",
   "metadata": {},
   "outputs": [
    {
     "name": "stdout",
     "output_type": "stream",
     "text": [
      "D\n"
     ]
    }
   ],
   "source": [
    "if grade >= 90:\n",
    "    print('A')\n",
    "elif grade >= 80:\n",
    "    print('B')\n",
    "elif grade >= 70:\n",
    "    print('C')\n",
    "elif grade >= 60:\n",
    "    print('D')\n",
    "else:\n",
    "    print('F')"
   ]
  },
  {
   "cell_type": "code",
   "execution_count": 10,
   "id": "2d7d6372",
   "metadata": {},
   "outputs": [],
   "source": [
    "### Question 6 ### \n",
    "marks={'Andy':88, 'Amy':66, 'James':90, 'Jules':55, 'Arthur':77}"
   ]
  },
  {
   "cell_type": "code",
   "execution_count": 13,
   "id": "445a150d",
   "metadata": {},
   "outputs": [
    {
     "name": "stdout",
     "output_type": "stream",
     "text": [
      "Andy has a grade of  88\n",
      "Amy has a grade of  66\n",
      "James has a grade of  90\n",
      "Jules has a grade of  55\n",
      "Arthur has a grade of  77\n"
     ]
    }
   ],
   "source": [
    "for student in marks:\n",
    "    print(student, \"has a grade of \",marks[student])"
   ]
  },
  {
   "cell_type": "code",
   "execution_count": 18,
   "id": "b813fdbf",
   "metadata": {},
   "outputs": [],
   "source": [
    "grades=list(marks.values())"
   ]
  },
  {
   "cell_type": "code",
   "execution_count": 21,
   "id": "6429fc34",
   "metadata": {},
   "outputs": [
    {
     "ename": "TypeError",
     "evalue": "'int' object is not callable",
     "output_type": "error",
     "traceback": [
      "\u001b[0;31m---------------------------------------------------------------------------\u001b[0m",
      "\u001b[0;31mTypeError\u001b[0m                                 Traceback (most recent call last)",
      "\u001b[0;32m/var/folders/_d/glzg93jx18101wmx282c50k40000gn/T/ipykernel_17800/3053589117.py\u001b[0m in \u001b[0;36m<module>\u001b[0;34m\u001b[0m\n\u001b[0;32m----> 1\u001b[0;31m \u001b[0mMean\u001b[0m\u001b[0;34m=\u001b[0m\u001b[0msum\u001b[0m\u001b[0;34m(\u001b[0m\u001b[0mgrades\u001b[0m\u001b[0;34m)\u001b[0m\u001b[0;34m/\u001b[0m\u001b[0mlen\u001b[0m\u001b[0;34m(\u001b[0m\u001b[0mgrades\u001b[0m\u001b[0;34m)\u001b[0m\u001b[0;34m\u001b[0m\u001b[0;34m\u001b[0m\u001b[0m\n\u001b[0m\u001b[1;32m      2\u001b[0m \u001b[0mprint\u001b[0m\u001b[0;34m(\u001b[0m\u001b[0;34m\"The mean is\"\u001b[0m\u001b[0;34m,\u001b[0m \u001b[0mMean\u001b[0m\u001b[0;34m)\u001b[0m\u001b[0;34m\u001b[0m\u001b[0;34m\u001b[0m\u001b[0m\n\u001b[1;32m      3\u001b[0m \u001b[0mprint\u001b[0m\u001b[0;34m(\u001b[0m\u001b[0;34m\"The max is\"\u001b[0m\u001b[0;34m,\u001b[0m \u001b[0mmax\u001b[0m\u001b[0;34m(\u001b[0m\u001b[0mgrades\u001b[0m\u001b[0;34m)\u001b[0m\u001b[0;34m)\u001b[0m\u001b[0;34m\u001b[0m\u001b[0;34m\u001b[0m\u001b[0m\n\u001b[1;32m      4\u001b[0m \u001b[0mprint\u001b[0m\u001b[0;34m(\u001b[0m\u001b[0;34m\"The min is\"\u001b[0m\u001b[0;34m,\u001b[0m \u001b[0mmin\u001b[0m\u001b[0;34m(\u001b[0m\u001b[0mgrades\u001b[0m\u001b[0;34m)\u001b[0m\u001b[0;34m)\u001b[0m\u001b[0;34m\u001b[0m\u001b[0;34m\u001b[0m\u001b[0m\n",
      "\u001b[0;31mTypeError\u001b[0m: 'int' object is not callable"
     ]
    }
   ],
   "source": [
    "Mean=sum(grades)/len(grades)\n",
    "print(\"The mean is\", Mean)\n",
    "print(\"The max is\", max(grades))\n",
    "print(\"The min is\", min(grades))"
   ]
  },
  {
   "cell_type": "code",
   "execution_count": 22,
   "id": "3a7bf15b",
   "metadata": {},
   "outputs": [
    {
     "name": "stdout",
     "output_type": "stream",
     "text": [
      "Andy\n",
      "Amy\n"
     ]
    }
   ],
   "source": [
    "for student in marks:\n",
    "    if 'J' in student:\n",
    "        break\n",
    "    print(student)"
   ]
  },
  {
   "cell_type": "code",
   "execution_count": 23,
   "id": "219b8c0f",
   "metadata": {},
   "outputs": [
    {
     "name": "stdout",
     "output_type": "stream",
     "text": [
      "Andy\n",
      "Amy\n",
      "Arthur\n"
     ]
    }
   ],
   "source": [
    "for student in marks:\n",
    "    if 'J' in student:\n",
    "        continue\n",
    "    print(student)"
   ]
  },
  {
   "cell_type": "code",
   "execution_count": null,
   "id": "e9b81b6a",
   "metadata": {},
   "outputs": [],
   "source": []
  }
 ],
 "metadata": {
  "kernelspec": {
   "display_name": "Python 3 (ipykernel)",
   "language": "python",
   "name": "python3"
  },
  "language_info": {
   "codemirror_mode": {
    "name": "ipython",
    "version": 3
   },
   "file_extension": ".py",
   "mimetype": "text/x-python",
   "name": "python",
   "nbconvert_exporter": "python",
   "pygments_lexer": "ipython3",
   "version": "3.9.13"
  }
 },
 "nbformat": 4,
 "nbformat_minor": 5
}
