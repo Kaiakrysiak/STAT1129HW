{
 "cells": [
  {
   "cell_type": "code",
   "execution_count": 3,
   "id": "3a3dd0ee",
   "metadata": {},
   "outputs": [
    {
     "name": "stdout",
     "output_type": "stream",
     "text": [
      "66\n"
     ]
    }
   ],
   "source": [
    "###### Question 1 ######\n",
    "## Q1 ##\n",
    "\n",
    "student = 'Amy'\n",
    "marks = {'Andy': 88, 'Amy': 66, 'James': 90, 'Jules': 55, 'Arthur': 77}\n",
    "for students in marks:\n",
    "    if student == student_name :\n",
    "        print(marks[student])\n",
    "        break\n",
    "else:\n",
    "    print('No entry with that name found')"
   ]
  },
  {
   "cell_type": "code",
   "execution_count": 5,
   "id": "a0cf7a78",
   "metadata": {},
   "outputs": [],
   "source": [
    "## Q2 ##\n",
    "\n",
    "def average(*args):\n",
    "    return sum(args) / len(args)"
   ]
  },
  {
   "cell_type": "code",
   "execution_count": 6,
   "id": "9d146c39",
   "metadata": {},
   "outputs": [
    {
     "data": {
      "text/plain": [
       "75.2"
      ]
     },
     "execution_count": 6,
     "metadata": {},
     "output_type": "execute_result"
    }
   ],
   "source": [
    "average(88, 66, 90, 55, 77)"
   ]
  },
  {
   "cell_type": "code",
   "execution_count": 15,
   "id": "95f39f90",
   "metadata": {},
   "outputs": [
    {
     "name": "stdout",
     "output_type": "stream",
     "text": [
      "0\n",
      "1\n",
      "2\n",
      "3\n",
      "4\n",
      "5\n",
      "6\n",
      "7\n"
     ]
    }
   ],
   "source": [
    "###### Question 2 ######\n",
    "n = 0 \n",
    "while n < 8:\n",
    "    print(n)\n",
    "    n += 1"
   ]
  },
  {
   "cell_type": "code",
   "execution_count": 16,
   "id": "ebffaede",
   "metadata": {},
   "outputs": [
    {
     "name": "stdout",
     "output_type": "stream",
     "text": [
      "0\n",
      "1\n",
      "2\n",
      "3\n",
      "4\n",
      "5\n",
      "6\n",
      "7\n"
     ]
    }
   ],
   "source": [
    "def printout(num):\n",
    "    n = 0 \n",
    "    while n < num:\n",
    "        print(n)\n",
    "        n += 1 \n",
    "        \n",
    "printout(8)"
   ]
  },
  {
   "cell_type": "code",
   "execution_count": 17,
   "id": "7809db02",
   "metadata": {},
   "outputs": [
    {
     "name": "stdout",
     "output_type": "stream",
     "text": [
      "1\n",
      "2\n",
      "5\n",
      "26\n"
     ]
    }
   ],
   "source": [
    "n = 0\n",
    "while n < 8:\n",
    "    n = n**2\n",
    "    n = n + 1\n",
    "    print(n)"
   ]
  },
  {
   "cell_type": "code",
   "execution_count": 10,
   "id": "2e01ca61",
   "metadata": {},
   "outputs": [
    {
     "name": "stdout",
     "output_type": "stream",
     "text": [
      "0\n",
      "1\n",
      "2\n",
      "3\n",
      "4\n",
      "5\n",
      "6\n",
      "7\n",
      "8\n",
      "greater than 8\n"
     ]
    }
   ],
   "source": [
    "n = 0\n",
    "while n<= 8:\n",
    "    print(n)\n",
    "    n+=1\n",
    "else:\n",
    "    print('greater than 8')"
   ]
  },
  {
   "cell_type": "code",
   "execution_count": 13,
   "id": "d15a351c",
   "metadata": {},
   "outputs": [
    {
     "name": "stdout",
     "output_type": "stream",
     "text": [
      "0\n",
      "1\n",
      "2\n",
      "3\n",
      "4\n",
      "5\n",
      "6\n",
      "7\n",
      "8\n",
      "greater than  8\n"
     ]
    }
   ],
   "source": [
    "def less_greater(num):\n",
    "    n = 0 \n",
    "    while n <= num:\n",
    "        print(n)\n",
    "        n+=1\n",
    "    else:\n",
    "        print(\"greater than \", num)\n",
    "\n",
    "less_greater(8)"
   ]
  },
  {
   "cell_type": "code",
   "execution_count": 1,
   "id": "358f7022",
   "metadata": {},
   "outputs": [
    {
     "name": "stdout",
     "output_type": "stream",
     "text": [
      "406\n"
     ]
    }
   ],
   "source": [
    "###### Question 3 ######\n",
    "\n",
    "n = 1\n",
    "sum = 0\n",
    "while n <=28:\n",
    "    sum = sum +n \n",
    "    n = n + 1\n",
    "print(sum)\n"
   ]
  },
  {
   "cell_type": "code",
   "execution_count": 2,
   "id": "2abb0fb9",
   "metadata": {},
   "outputs": [
    {
     "name": "stdout",
     "output_type": "stream",
     "text": [
      "406\n"
     ]
    }
   ],
   "source": [
    "def sumfunction(num):\n",
    "    n = 1\n",
    "    sum = 0\n",
    "    while n <=num:\n",
    "        sum = sum + n \n",
    "        n = n + 1\n",
    "    print(sum)\n",
    "sumfunction(28)"
   ]
  },
  {
   "cell_type": "code",
   "execution_count": 3,
   "id": "a136de17",
   "metadata": {},
   "outputs": [
    {
     "name": "stdout",
     "output_type": "stream",
     "text": [
      "406\n"
     ]
    }
   ],
   "source": [
    "###### Question 4 ######\n",
    "\n",
    "sum = 0\n",
    "\n",
    "for n in range(29):\n",
    "    sum = sum + n \n",
    "print(sum)"
   ]
  },
  {
   "cell_type": "code",
   "execution_count": 4,
   "id": "ade266a0",
   "metadata": {},
   "outputs": [
    {
     "name": "stdout",
     "output_type": "stream",
     "text": [
      "406\n"
     ]
    }
   ],
   "source": [
    "def range_sum(num):\n",
    "    sum = 0 \n",
    "    for n in range(num):\n",
    "        sum = sum + n \n",
    "    print(sum)\n",
    "    \n",
    "range_sum(29)"
   ]
  },
  {
   "cell_type": "code",
   "execution_count": 1,
   "id": "d40a0eb6",
   "metadata": {},
   "outputs": [
    {
     "data": {
      "text/plain": [
       "4950"
      ]
     },
     "execution_count": 1,
     "metadata": {},
     "output_type": "execute_result"
    }
   ],
   "source": [
    "###### Question 5 ###### \n",
    " \n",
    "v = range(1, 100)\n",
    "sum(v)"
   ]
  },
  {
   "cell_type": "code",
   "execution_count": 3,
   "id": "844d5cc9",
   "metadata": {},
   "outputs": [
    {
     "data": {
      "text/plain": [
       "28.577380332470412"
      ]
     },
     "execution_count": 3,
     "metadata": {},
     "output_type": "execute_result"
    }
   ],
   "source": [
    "import statistics\n",
    "v = range(1, 100)\n",
    "statistics.pstdev(v)"
   ]
  },
  {
   "cell_type": "code",
   "execution_count": 4,
   "id": "48c709b3",
   "metadata": {},
   "outputs": [],
   "source": [
    "import math"
   ]
  },
  {
   "cell_type": "code",
   "execution_count": 5,
   "id": "4fcd73aa",
   "metadata": {},
   "outputs": [
    {
     "data": {
      "text/plain": [
       "28.577380332470412"
      ]
     },
     "execution_count": 5,
     "metadata": {},
     "output_type": "execute_result"
    }
   ],
   "source": [
    "math.sqrt(statistics.pvariance(v))"
   ]
  },
  {
   "cell_type": "code",
   "execution_count": 9,
   "id": "1838b318",
   "metadata": {},
   "outputs": [
    {
     "name": "stdout",
     "output_type": "stream",
     "text": [
      "range(1, 100)\n"
     ]
    }
   ],
   "source": [
    "v = range(1, 100)\n",
    "print(v)"
   ]
  },
  {
   "cell_type": "code",
   "execution_count": 11,
   "id": "0928488e",
   "metadata": {},
   "outputs": [],
   "source": [
    "from statistics import mean"
   ]
  },
  {
   "cell_type": "code",
   "execution_count": 12,
   "id": "d4e3c6fb",
   "metadata": {},
   "outputs": [],
   "source": [
    "v = range(1, 100)"
   ]
  },
  {
   "cell_type": "code",
   "execution_count": 13,
   "id": "9bf3fd4a",
   "metadata": {},
   "outputs": [
    {
     "data": {
      "text/plain": [
       "50"
      ]
     },
     "execution_count": 13,
     "metadata": {},
     "output_type": "execute_result"
    }
   ],
   "source": [
    "mean(v)"
   ]
  },
  {
   "cell_type": "code",
   "execution_count": 14,
   "id": "9d7e5607",
   "metadata": {},
   "outputs": [],
   "source": [
    "###### Question 6 ######\n",
    "\n",
    "def minimum(value1, value2, value3, value4):\n",
    "    \"\"\"Return the minimum of the four values.\"\"\"\n",
    "    min_value = value1\n",
    "    if value2 < min_value:\n",
    "        min_value = value2\n",
    "    if value3 < min_value:\n",
    "        min_value = value3\n",
    "    if value4 < min_value:\n",
    "        min_value = value4\n",
    "    return min_value"
   ]
  },
  {
   "cell_type": "code",
   "execution_count": 15,
   "id": "5bf9f6a1",
   "metadata": {},
   "outputs": [
    {
     "data": {
      "text/plain": [
       "4"
      ]
     },
     "execution_count": 15,
     "metadata": {},
     "output_type": "execute_result"
    }
   ],
   "source": [
    "minimum(10, 88, 4, 50)"
   ]
  },
  {
   "cell_type": "code",
   "execution_count": 16,
   "id": "9663948d",
   "metadata": {},
   "outputs": [],
   "source": [
    "###### Question 7 ######\n",
    "\n",
    "def concat(list_args):\n",
    "    res = \"\"\n",
    "    for x in list_args:\n",
    "        res += x\n",
    "    return res"
   ]
  },
  {
   "cell_type": "code",
   "execution_count": 17,
   "id": "befc578d",
   "metadata": {},
   "outputs": [
    {
     "name": "stdout",
     "output_type": "stream",
     "text": [
      "python is fun\n"
     ]
    }
   ],
   "source": [
    "print(concat(['python ', 'is ', 'fun']))"
   ]
  },
  {
   "cell_type": "code",
   "execution_count": null,
   "id": "14150afd",
   "metadata": {},
   "outputs": [],
   "source": []
  }
 ],
 "metadata": {
  "kernelspec": {
   "display_name": "Python 3 (ipykernel)",
   "language": "python",
   "name": "python3"
  },
  "language_info": {
   "codemirror_mode": {
    "name": "ipython",
    "version": 3
   },
   "file_extension": ".py",
   "mimetype": "text/x-python",
   "name": "python",
   "nbconvert_exporter": "python",
   "pygments_lexer": "ipython3",
   "version": "3.9.13"
  }
 },
 "nbformat": 4,
 "nbformat_minor": 5
}
